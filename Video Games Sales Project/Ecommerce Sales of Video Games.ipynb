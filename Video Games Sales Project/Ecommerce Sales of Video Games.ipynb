{
 "cells": [
  {
   "cell_type": "markdown",
   "metadata": {
    "application/vnd.databricks.v1+cell": {
     "cellMetadata": {},
     "inputWidgets": {},
     "nuid": "bc12e907-5271-4cd5-ae94-a9739232600e",
     "showTitle": false,
     "title": ""
    }
   },
   "source": [
    "# Ecommerce Sales of Video Games\n",
    "Video game is always related to our childhood. We played game when we're small and\n",
    "even when we'realready an adult. But is the industry doing well these day ? We can \n",
    "analyze the video game sale datasetwith graphs visualization to get some insight about \n",
    "that.\n",
    "\n",
    "&#9888; The Data Set is Taken from: [https://www.kaggle.com/datasets/rishidamarla/video-game-sales](https://www.kaggle.com/datasets/rishidamarla/video-game-sales)"
   ]
  },
  {
   "cell_type": "markdown",
   "metadata": {
    "application/vnd.databricks.v1+cell": {
     "cellMetadata": {},
     "inputWidgets": {},
     "nuid": "03aa00a2-2e07-4caf-ae41-4a98e0d6572b",
     "showTitle": false,
     "title": ""
    }
   },
   "source": [
    "### Installing PySpark Dependencies and Reading Data"
   ]
  },
  {
   "cell_type": "code",
   "execution_count": null,
   "metadata": {
    "application/vnd.databricks.v1+cell": {
     "cellMetadata": {
      "byteLimit": 2048000,
      "rowLimit": 10000
     },
     "inputWidgets": {},
     "nuid": "a1f7c51b-8da9-4002-b5f1-b4209a4703b7",
     "showTitle": false,
     "title": ""
    }
   },
   "outputs": [],
   "source": [
    "!pip install pyspark\n",
    "import pyspark\n",
    "from pyspark.sql import SparkSession\n",
    "spark=SparkSession.builder.appName(\"Travel Data Analysis using Pyspark\").getOrCreate()\n",
    "df=spark.read.format(\"csv\").option(\"delimeter\",\",\").load(\"/FileStore/tables/Video_Games.csv\")\n",
    "df.show()"
   ]
  },
  {
   "cell_type": "markdown",
   "metadata": {
    "application/vnd.databricks.v1+cell": {
     "cellMetadata": {},
     "inputWidgets": {},
     "nuid": "c5001ffa-f97c-4b87-919d-f9052aeabd25",
     "showTitle": false,
     "title": ""
    }
   },
   "source": [
    "### Converting Dataframe to Temporary View for Spark SQL Analysis"
   ]
  },
  {
   "cell_type": "code",
   "execution_count": null,
   "metadata": {
    "application/vnd.databricks.v1+cell": {
     "cellMetadata": {
      "byteLimit": 2048000,
      "rowLimit": 10000
     },
     "inputWidgets": {},
     "nuid": "ffe49e71-f7d2-4a43-8cca-e55b24596283",
     "showTitle": false,
     "title": ""
    }
   },
   "outputs": [],
   "source": [
    "df.createOrReplaceGlobalTempView(\"sales\")\n",
    "result=spark.sql(\"SELECT * FROM global_temp.sales\");\n",
    "result.show()"
   ]
  },
  {
   "cell_type": "markdown",
   "metadata": {
    "application/vnd.databricks.v1+cell": {
     "cellMetadata": {},
     "inputWidgets": {},
     "nuid": "7b1215cf-ce50-4c46-b6bb-86bca3e484db",
     "showTitle": false,
     "title": ""
    }
   },
   "source": [
    "### Exploratory Data Analysis & Visualization"
   ]
  },
  {
   "cell_type": "markdown",
   "metadata": {
    "application/vnd.databricks.v1+cell": {
     "cellMetadata": {},
     "inputWidgets": {},
     "nuid": "09588f88-1c27-4ef6-89b9-65e081aba3bd",
     "showTitle": false,
     "title": ""
    }
   },
   "source": [
    "1) First, We should see the total sales of games each year. It helps us to know when video games are\n",
    "declining and when they are popular."
   ]
  },
  {
   "cell_type": "markdown",
   "metadata": {
    "application/vnd.databricks.v1+cell": {
     "cellMetadata": {},
     "inputWidgets": {},
     "nuid": "93f2a6d8-802e-4650-894b-3b87f0f66387",
     "showTitle": false,
     "title": ""
    }
   },
   "source": [
    "2) Total Sales Comparision Between Region Area"
   ]
  },
  {
   "cell_type": "markdown",
   "metadata": {
    "application/vnd.databricks.v1+cell": {
     "cellMetadata": {},
     "inputWidgets": {},
     "nuid": "b1e7232d-3ee9-4eed-a3eb-0dbb92240c52",
     "showTitle": false,
     "title": ""
    }
   },
   "source": [
    "3) Top 10 Games and Platform in 2008 and 2009"
   ]
  },
  {
   "cell_type": "markdown",
   "metadata": {
    "application/vnd.databricks.v1+cell": {
     "cellMetadata": {},
     "inputWidgets": {},
     "nuid": "45fa6d0c-6361-4a3d-bafc-5dc999be7bc8",
     "showTitle": false,
     "title": ""
    }
   },
   "source": [
    "4) in 2008 and 2009, the most popular games was from wii platform. Tht's pretty interesting let see the\n",
    "pie grapgh for platfrom (We should combine two dataframe as well)"
   ]
  },
  {
   "cell_type": "markdown",
   "metadata": {
    "application/vnd.databricks.v1+cell": {
     "cellMetadata": {},
     "inputWidgets": {},
     "nuid": "acd55c59-72d6-4acc-9492-c4de9a4ac3a1",
     "showTitle": false,
     "title": ""
    }
   },
   "source": [
    "5) Top 10 Platform Overall"
   ]
  },
  {
   "cell_type": "markdown",
   "metadata": {
    "application/vnd.databricks.v1+cell": {
     "cellMetadata": {},
     "inputWidgets": {},
     "nuid": "101a5e82-8b12-4427-90c9-0b690149fb99",
     "showTitle": false,
     "title": ""
    }
   },
   "source": [
    "6) Top 10 Publishers"
   ]
  },
  {
   "cell_type": "markdown",
   "metadata": {
    "application/vnd.databricks.v1+cell": {
     "cellMetadata": {},
     "inputWidgets": {},
     "nuid": "920bb7d2-a3e5-4126-95e3-dc2c89eafaae",
     "showTitle": false,
     "title": ""
    }
   },
   "source": [
    "7) Top Genre"
   ]
  },
  {
   "cell_type": "markdown",
   "metadata": {
    "application/vnd.databricks.v1+cell": {
     "cellMetadata": {},
     "inputWidgets": {},
     "nuid": "817540ec-e18f-4650-b76f-6eddda9aa3ee",
     "showTitle": false,
     "title": ""
    }
   },
   "source": [
    "8) We should use pie chart for this kind of things. Since it can give you the percent of each genre as well."
   ]
  },
  {
   "cell_type": "markdown",
   "metadata": {
    "application/vnd.databricks.v1+cell": {
     "cellMetadata": {},
     "inputWidgets": {},
     "nuid": "eda7852e-843b-419b-bc8b-8b278095cb1c",
     "showTitle": false,
     "title": ""
    }
   },
   "source": [
    "9) How many games was sold in the US from 2000 to 2006\n",
    "? How does it Compare to Global sale ?"
   ]
  },
  {
   "cell_type": "markdown",
   "metadata": {
    "application/vnd.databricks.v1+cell": {
     "cellMetadata": {},
     "inputWidgets": {},
     "nuid": "59f4b7f8-2144-4d5c-aa2d-687f6c1ae98a",
     "showTitle": false,
     "title": ""
    }
   },
   "source": [
    "10) Assume We want to join the game industry and target US\n",
    "market. Which genre should we try to make ?"
   ]
  },
  {
   "cell_type": "markdown",
   "metadata": {
    "application/vnd.databricks.v1+cell": {
     "cellMetadata": {},
     "inputWidgets": {},
     "nuid": "81ba4b91-47f3-413d-bf27-04f758439682",
     "showTitle": false,
     "title": ""
    }
   },
   "source": [
    "11) Who is the top Publisher in Japan ? what game is the\n",
    "bestseller and did they focus in some specific genre or Just\n",
    "publish whatever they think will be popular ?\n"
   ]
  },
  {
   "cell_type": "markdown",
   "metadata": {
    "application/vnd.databricks.v1+cell": {
     "cellMetadata": {},
     "inputWidgets": {},
     "nuid": "b16818a8-ecd3-4071-90e8-4cc1a3466909",
     "showTitle": false,
     "title": ""
    }
   },
   "source": [
    "12) Make a chart to display how the top trending game\n",
    "(genre) in 2008 was doing upto 2015 and how the top trending\n",
    "in 2015 was doing before 2008."
   ]
  },
  {
   "cell_type": "markdown",
   "metadata": {
    "application/vnd.databricks.v1+cell": {
     "cellMetadata": {},
     "inputWidgets": {},
     "nuid": "c87bc4ef-01bc-426a-8571-6f63ce8e0c05",
     "showTitle": false,
     "title": ""
    }
   },
   "source": [
    "13) Is there any correlation between critic scores and\n",
    "globalsales?\n"
   ]
  },
  {
   "cell_type": "markdown",
   "metadata": {
    "application/vnd.databricks.v1+cell": {
     "cellMetadata": {},
     "inputWidgets": {},
     "nuid": "0fbafa7e-eb6c-4977-af00-a02ef5e6aa24",
     "showTitle": false,
     "title": ""
    }
   },
   "source": [
    "### Conclusion"
   ]
  }
 ],
 "metadata": {
  "application/vnd.databricks.v1+notebook": {
   "dashboards": [],
   "language": "python",
   "notebookMetadata": {
    "pythonIndentUnit": 4
   },
   "notebookName": "Ecommerce Sales of Video Games",
   "widgets": {}
  },
  "language_info": {
   "name": "python"
  }
 },
 "nbformat": 4,
 "nbformat_minor": 0
}
